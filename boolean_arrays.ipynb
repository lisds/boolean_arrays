{
 "cells": [
  {
   "cell_type": "markdown",
   "id": "2468dd24",
   "metadata": {},
   "source": [
    "# Cinematic choices\n",
    "\n"
   ]
  },
  {
   "cell_type": "code",
   "execution_count": null,
   "id": "3e1a179c",
   "metadata": {},
   "outputs": [],
   "source": [
    "# Don't change this cell; just run it.\n",
    "import numpy as np  # The array library.\n",
    "\n",
    "# The OKpy testing system.\n",
    "from client.api.notebook import Notebook\n",
    "ok = Notebook('boolean_arrays.ok')"
   ]
  },
  {
   "cell_type": "markdown",
   "id": "07d55bf5",
   "metadata": {},
   "source": [
    "## The data\n",
    "\n",
    "We start by loading in some data on movies.\n",
    "\n",
    "You can find a little more on this dataset from the [dataset\n",
    "page](https://github.com/matthew-brett/datasets/tree/master/movie_metadata).\n",
    "\n",
    "It is a table of data about films, including title, year, budget,\n",
    "[IMDB](https://www.imdb.com/) rating and so on.\n",
    "\n",
    "The next cell loads in the data, and puts the data into arrays.\n",
    "\n",
    "We will cover the code to do this soon, but for now, just run this cell."
   ]
  },
  {
   "cell_type": "code",
   "execution_count": null,
   "id": "5012bd3e",
   "metadata": {},
   "outputs": [],
   "source": [
    "# Get the library for loading tables\n",
    "import pandas as pd\n",
    "# Load the table\n",
    "mmd = pd.read_csv('movies.csv')\n",
    "# Restrict ourselves to US movies (budget should be USD)\n",
    "us_mmd = mmd[mmd['country'] == 'USA']\n",
    "# Select the top 25 US films by IMDB rating\n",
    "top_ten = us_mmd.head(25)\n",
    "# Put the film data into arrays for our use.\n",
    "titles = np.array(top_ten['title'])\n",
    "budgets = np.array(top_ten['budget'])\n",
    "gross_earnings = np.array(top_ten['gross'])"
   ]
  },
  {
   "cell_type": "markdown",
   "id": "05946ad4",
   "metadata": {},
   "source": [
    "You now have three arrays, each with 25 elements, corresponding to the top 25\n",
    "movies made in the USA, by IMDB rating.\n",
    "\n",
    "Here are the movie titles:"
   ]
  },
  {
   "cell_type": "code",
   "execution_count": null,
   "id": "6ba68f2e",
   "metadata": {},
   "outputs": [],
   "source": [
    "titles"
   ]
  },
  {
   "cell_type": "markdown",
   "id": "00a6422e",
   "metadata": {},
   "source": [
    "The corresponding budgets in dollars:"
   ]
  },
  {
   "cell_type": "code",
   "execution_count": null,
   "id": "988c214a",
   "metadata": {},
   "outputs": [],
   "source": [
    "budgets"
   ]
  },
  {
   "cell_type": "markdown",
   "id": "82b4e4f2",
   "metadata": {},
   "source": [
    "The corresponding gross earnings in dollars:"
   ]
  },
  {
   "cell_type": "code",
   "execution_count": null,
   "id": "6328d38d",
   "metadata": {},
   "outputs": [],
   "source": [
    "gross_earnings"
   ]
  },
  {
   "cell_type": "markdown",
   "id": "4789f977",
   "metadata": {},
   "source": [
    "## Percent profit\n",
    "\n",
    "As a warm-up, make a new array `pct_profit`, that has one element per film,\n",
    "and where each element is the result of dividing the film's gross earnings by\n",
    "its budget, and multiplying by 100."
   ]
  },
  {
   "cell_type": "code",
   "execution_count": null,
   "id": "f4952ca4",
   "metadata": {},
   "outputs": [],
   "source": [
    "#- Calculate percent profit\n",
    "pct_profit = ...\n",
    "# Show the result.\n",
    "pct_profit"
   ]
  },
  {
   "cell_type": "code",
   "execution_count": null,
   "id": "09b20775",
   "metadata": {},
   "outputs": [],
   "source": [
    "_ = ok.grade('q_pct_profit')"
   ]
  },
  {
   "cell_type": "markdown",
   "id": "732d80e4",
   "metadata": {},
   "source": [
    "## Big winners\n",
    "\n",
    "These are the US films with the highest IMDB score, so we expect them to have\n",
    "been reasonably successful.  We therefore expect them to have fairly high\n",
    "values in `pct_profit`.  In the next cell, make a Boolean array `profit_gt_500`\n",
    "that has True for corresponding films that grossed more than 500% of their\n",
    "budget, and False otherwise."
   ]
  },
  {
   "cell_type": "code",
   "execution_count": null,
   "id": "d6ada2aa",
   "metadata": {},
   "outputs": [],
   "source": [
    "profit_gt_500 = ...\n",
    "# Show the result.\n",
    "profit_gt_500"
   ]
  },
  {
   "cell_type": "code",
   "execution_count": null,
   "id": "02a9a7b5",
   "metadata": {},
   "outputs": [],
   "source": [
    "_ = ok.grade('q_profit_gt_500')"
   ]
  },
  {
   "cell_type": "markdown",
   "id": "233878a4",
   "metadata": {},
   "source": [
    "How many films of these 25 made more than 500% of their budget in gross\n",
    "earnings?  Put the result in the variable `n_big_earners`"
   ]
  },
  {
   "cell_type": "code",
   "execution_count": null,
   "id": "397a3f21",
   "metadata": {},
   "outputs": [],
   "source": [
    "n_big_earners = ...\n",
    "# Show the result.\n",
    "n_big_earners"
   ]
  },
  {
   "cell_type": "code",
   "execution_count": null,
   "id": "b8e1d4ff",
   "metadata": {},
   "outputs": [],
   "source": [
    "_ = ok.grade('q_n_big_earners')"
   ]
  },
  {
   "cell_type": "markdown",
   "id": "519a3eba",
   "metadata": {},
   "source": [
    "Use [Boolean indexing](https://lisds.github.io/textbook/data-frames/boolean_indexing) to find\n",
    "the film titles for films with gross earnings over 500% of their budget.  Store\n",
    "these film titles in the array `big_earner_titles`."
   ]
  },
  {
   "cell_type": "code",
   "execution_count": null,
   "id": "7626db00",
   "metadata": {},
   "outputs": [],
   "source": [
    "big_earner_titles = ...\n",
    "# Show the result.\n",
    "big_earner_titles"
   ]
  },
  {
   "cell_type": "code",
   "execution_count": null,
   "id": "d6e30137",
   "metadata": {},
   "outputs": [],
   "source": [
    "_ = ok.grade('q_big_earner_titles')"
   ]
  },
  {
   "cell_type": "markdown",
   "id": "532cb8f6",
   "metadata": {},
   "source": [
    "## Relative losers\n",
    "\n",
    "The world does not just contain winners, even among these highly-rated films.\n",
    "\n",
    "Use Boolean indexing to find and show the film titles where percent profit was\n",
    "less than 100.  Put these titles into the variable `relative_loser_titles`."
   ]
  },
  {
   "cell_type": "code",
   "execution_count": null,
   "id": "66c3f12b",
   "metadata": {},
   "outputs": [],
   "source": [
    "relative_loser_titles = ...\n",
    "# Show the result.\n",
    "relative_loser_titles"
   ]
  },
  {
   "cell_type": "code",
   "execution_count": null,
   "id": "07031b3b",
   "metadata": {},
   "outputs": [],
   "source": [
    "_ = ok.grade('q_relative_losers')"
   ]
  },
  {
   "cell_type": "markdown",
   "id": "94de936c",
   "metadata": {},
   "source": [
    "You have just discovered you are a big snob for high earners.  You want to tell\n",
    "the world.  First you make a new copy of the `titles` array to prepare to give\n",
    "your own version of some titles."
   ]
  },
  {
   "cell_type": "code",
   "execution_count": null,
   "id": "4e7fe261",
   "metadata": {},
   "outputs": [],
   "source": [
    "# Run this cell.\n",
    "# Make a new copy of the titles array using the .copy method.\n",
    "my_titles = titles.copy()\n",
    "my_titles"
   ]
  },
  {
   "cell_type": "markdown",
   "id": "109da272",
   "metadata": {},
   "source": [
    "Now express your disapproval of the lower-earning films by replacing their\n",
    "titles in `my_titles` with the new title \"Who cares?\".  Use Boolean indexing to\n",
    "do the assignment."
   ]
  },
  {
   "cell_type": "code",
   "execution_count": null,
   "id": "4e3a6d1f",
   "metadata": {},
   "outputs": [],
   "source": [
    "my_titles...\n",
    "# Show the result.\n",
    "my_titles"
   ]
  },
  {
   "cell_type": "code",
   "execution_count": null,
   "id": "e753742a",
   "metadata": {},
   "outputs": [],
   "source": [
    "_ = ok.grade('q_my_titles')"
   ]
  },
  {
   "cell_type": "markdown",
   "id": "592a02cc",
   "metadata": {},
   "source": [
    "## Done.\n",
    "\n",
    "Congratulations, you're done with the assignment!  Be sure to:\n",
    "\n",
    "- **run all the tests** (the next cell has a shortcut for that).\n",
    "- **Save and Checkpoint** from the `File` menu."
   ]
  },
  {
   "cell_type": "code",
   "execution_count": null,
   "id": "0dee866c",
   "metadata": {},
   "outputs": [],
   "source": [
    "# For your convenience, you can run this cell to run all the tests at once!\n",
    "import os\n",
    "_ = [ok.grade(q[:-3]) for q in os.listdir(\"tests\") if q.startswith('q')]"
   ]
  }
 ],
 "metadata": {
  "jupytext": {
   "notebook_metadata_filter": "all,-language_info",
   "split_at_heading": true,
   "text_representation": {
    "extension": ".Rmd",
    "format_name": "rmarkdown",
    "format_version": "1.2",
    "jupytext_version": "1.10.3"
   }
  },
  "kernelspec": {
   "display_name": "Python 3 (ipykernel)",
   "language": "python",
   "name": "python3"
  }
 },
 "nbformat": 4,
 "nbformat_minor": 5
}
